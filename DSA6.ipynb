{
 "cells": [
  {
   "cell_type": "markdown",
   "id": "407dbfe3",
   "metadata": {},
   "source": [
    "## Question1. What is the distinction between a list and an array?"
   ]
  },
  {
   "cell_type": "markdown",
   "id": "ecc2a303",
   "metadata": {},
   "source": [
    "#### Ans1. Below we have mentioned 5 main differences between array and list in python programming:\n",
    "#### Replaceability: Python list can be replaceable for array data structure only with few exceptional cases.\n",
    "#### Data Types Storage: Array can store elements of only one data type but List can store the elements of different data types too. Hence, Array stores homogeneous data values, and the list can store heterogeneous data values.\n",
    "#### Importing Module: List is the in-build data structure of python language hence no module or package is to be imported before using it. But the array is not an in-build data structure for python language. Hence, we need to import the “array” module before creating and using arrays.\n",
    "#### Numerical Operation: Array provides an advantage in performing Mathematical operations in the python language because the NumPy module provides us with an array structure to store data values and manipulate them easily. But the list on other hand does not reflect the results. The list is capable of performing the mathematical operations but they are less efficient in comparison to the array.\n",
    "#### Modification Capabilities: Array has very poor performance in resizing and modifying the memory location but the list on the other hand is an in-build data structure and hence can be resized and modify very easily and efficiently."
   ]
  },
  {
   "cell_type": "markdown",
   "id": "91a8b991",
   "metadata": {},
   "source": [
    "## Question2. What are the qualities of a binary tree?"
   ]
  },
  {
   "cell_type": "markdown",
   "id": "f161333c",
   "metadata": {},
   "source": [
    "#### Ans2. A binary tree consists of a number of nodes that contain the data to be stored (or pointers to the data), and the following structural characteristics :\n",
    "#### 1.Each node has up to two direct child nodes.\n",
    "#### 2.There is exactly one node, called the root of the tree, that has no parent node. All other nodes have exactly one parent.\n",
    "#### 3.Nodes in a binary tree are placed according to this rule: the value of a node is greater than or equal to the values of any descendant in its left branch, and less than the value of any descendant in its right branch"
   ]
  },
  {
   "cell_type": "markdown",
   "id": "f91495bb",
   "metadata": {},
   "source": [
    "## Question3. What is the best way to combine two balanced binary search trees?"
   ]
  },
  {
   "cell_type": "markdown",
   "id": "bdcfcaa5",
   "metadata": {},
   "source": [
    "#### Ans3. Method 1 (Insert elements of the first tree to second) \n",
    "#### Take all elements of first BST one by one, and insert them into the second BST. Inserting an element to a self balancing BST takes Logn time (See this) where n is size of the BST. So time complexity of this method is Log(n) + Log(n+1) … Log(m+n-1). The value of this expression will be between mLogn and mLog(m+n-1). As an optimization, we can pick the smaller tree as first tree.\n",
    "#### Method 2 (Merge Inorder Traversals) \n",
    "1) Do inorder traversal of first tree and store the traversal in one temp array arr1[]. This step takes O(m) time. \n",
    "2) Do inorder traversal of second tree and store the traversal in another temp array arr2[]. This step takes O(n) time. \n",
    "3) The arrays created in step 1 and 2 are sorted arrays. Merge the two sorted arrays into one array of size m + n. This step takes O(m+n) time. \n",
    "4) Construct a balanced tree from the merged array using the technique discussed in this post. This step takes O(m+n) time.\n",
    "Time complexity of this method is O(m+n) which is better than method 1. This method takes O(m+n) time even if the input BSTs are not balanced."
   ]
  },
  {
   "cell_type": "markdown",
   "id": "dae1aad6",
   "metadata": {},
   "source": [
    "## Question4. How would you describe Heap in detail?\n"
   ]
  },
  {
   "cell_type": "markdown",
   "id": "bbca3ea4",
   "metadata": {},
   "source": [
    "#### Ans4. A Heap is a special Tree-based data structure in which the tree is a complete binary tree. Generally, Heaps can be of two types:\n",
    "#### Max-Heap: In a Max-Heap the key present at the root node must be greatest among the keys present at all of it’s children. The same property must be recursively true for all sub-trees in that Binary Tree.\n",
    "#### Min-Heap: In a Min-Heap the key present at the root node must be minimum among the keys present at all of it’s children. The same property must be recursively true for all sub-trees in that Binary Tree"
   ]
  },
  {
   "cell_type": "markdown",
   "id": "9a9c03aa",
   "metadata": {},
   "source": [
    "## Question5. In terms of data structure, what is a HashMap?"
   ]
  },
  {
   "cell_type": "markdown",
   "id": "0a11c04f",
   "metadata": {},
   "source": [
    "#### Ans5. Hashing is a technique or process of mapping keys, values into the hash table by using a hash function. It is done for faster access to elements. The efficiency of mapping depends on the efficiency of the hash function used."
   ]
  },
  {
   "cell_type": "markdown",
   "id": "160219fc",
   "metadata": {},
   "source": [
    "## Question6. How do you explain the complexities of time and space?"
   ]
  },
  {
   "cell_type": "markdown",
   "id": "8f3db3b3",
   "metadata": {},
   "source": [
    "#### Ans6. Time complexity is a function describing the amount of time an algorithm takes in terms of the amount of input to the algorithm. \n",
    "#### Space complexity is a function describing the amount of memory (space) an algorithm takes in terms of the amount of input to the algorithm"
   ]
  },
  {
   "cell_type": "markdown",
   "id": "a4260d3f",
   "metadata": {},
   "source": [
    "## Question7. How do you recursively sort a stack?"
   ]
  },
  {
   "cell_type": "markdown",
   "id": "a7658040",
   "metadata": {},
   "source": [
    "#### Ans7. The idea is simple – recursively remove values from the stack until the stack becomes empty and then insert those values (from the call stack) back into the stack in a sorted position."
   ]
  },
  {
   "cell_type": "code",
   "execution_count": null,
   "id": "e92a51c0",
   "metadata": {},
   "outputs": [],
   "source": []
  }
 ],
 "metadata": {
  "kernelspec": {
   "display_name": "Python 3",
   "language": "python",
   "name": "python3"
  },
  "language_info": {
   "codemirror_mode": {
    "name": "ipython",
    "version": 3
   },
   "file_extension": ".py",
   "mimetype": "text/x-python",
   "name": "python",
   "nbconvert_exporter": "python",
   "pygments_lexer": "ipython3",
   "version": "3.8.8"
  }
 },
 "nbformat": 4,
 "nbformat_minor": 5
}
