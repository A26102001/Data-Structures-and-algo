{
 "cells": [
  {
   "cell_type": "markdown",
   "id": "135c5702",
   "metadata": {},
   "source": [
    "## Question1. What is the divide and conquer strategy?"
   ]
  },
  {
   "cell_type": "markdown",
   "id": "ef5221db",
   "metadata": {},
   "source": [
    "#### Ans1. Divide  and conquer  strategy  is  as  follows: –\n",
    "#### Divide  the  problem  instance  into  two  or  more  smaller instances  of  the  same  problem, \n",
    "#### –Solve  the  smaller  instances  recursively,  and  assemble  the solutions  to  form  a  solution  of  the  original  instance.\n",
    "#### –The recursion  stops  when  an  instance  is  reached  which  is too  small  to  divide.\n",
    "#### • Divide  and conquer  algorithm  consists  of  two  parts:–Divide  :  Divide  the  problem  into  a  number  of  sub problems.  \n",
    "#### The  sub  problems  are  solved  recursively.\n",
    "#### –Conquer    :  The  solution  to  the  original  problem  is  then formed  from  the  solutions  to  the  sub  problems "
   ]
  },
  {
   "cell_type": "markdown",
   "id": "0c0f4759",
   "metadata": {},
   "source": [
    "## Question2. What is binary search and how does it work?"
   ]
  },
  {
   "cell_type": "markdown",
   "id": "a6bb2990",
   "metadata": {},
   "source": [
    "#### Ans2. Is  a search algorithm  that  finds  the  position  of  a target  value  within  a  sorted  array. \n",
    "#### • Initially  the  value  of  the  search  is  compared  with the  middle  element  of  the  array.\n",
    "#### • If  the  value  of  the  search  key  is  less  than  the  item in  the  middle  of  the  array,  narrow  the  interval  to the  lower  half.  Otherwise  narrow  it  to  the  upper half.\n",
    "#### • Repeatedly check  until  the  value  is  found  or  there are  no  more  elements  to  be  compared."
   ]
  },
  {
   "cell_type": "markdown",
   "id": "63c664b1",
   "metadata": {},
   "source": [
    "## Question3. Explain the distinction between a list and a tuple."
   ]
  },
  {
   "cell_type": "markdown",
   "id": "15f60c65",
   "metadata": {},
   "source": [
    "#### Ans3. The key difference between the tuples and lists is that while the tuples are immutable objects the lists are mutable. This means that tuples cannot be changed while the lists can be modified."
   ]
  },
  {
   "cell_type": "markdown",
   "id": "7bd7d368",
   "metadata": {},
   "source": [
    "## Question4. Can you explain how Python manages memory?"
   ]
  },
  {
   "cell_type": "markdown",
   "id": "7ea8b0f4",
   "metadata": {},
   "source": [
    "#### Ans4. Memory management in Python involves a private heap containing all Python objects and data structures. The management of this private heap is ensured internally by the Python memory manager. The Python memory manager has different components which deal with various dynamic storage management aspects, like sharing, segmentation, preallocation or caching.\n",
    "\n",
    "#### At the lowest level, a raw memory allocator ensures that there is enough room in the private heap for storing all Python-related data by interacting with the memory manager of the operating system. On top of the raw memory allocator, several object-specific allocators operate on the same heap and implement distinct memory management policies adapted to the peculiarities of every object type. For example, integer objects are managed differently within the heap than strings, tuples or dictionaries because integers imply different storage requirements and speed/space tradeoffs. The Python memory manager thus delegates some of the work to the object-specific allocators, but ensures that the latter operate within the bounds of the private heap.\n",
    "\n"
   ]
  },
  {
   "cell_type": "markdown",
   "id": "622be35d",
   "metadata": {},
   "source": [
    "## Question5. What is the difference between pickling and unpickling?"
   ]
  },
  {
   "cell_type": "markdown",
   "id": "35b1cf63",
   "metadata": {},
   "source": [
    "#### Ans5. The pickle module implements binary protocols for serializing and de-serializing a Python object structure. “Pickling” is the process whereby a Python object hierarchy is converted into a byte stream, and “unpickling” is the inverse operation, whereby a byte stream (from a binary file or bytes-like object) is converted back into an object hierarchy. Pickling (and unpickling) is alternatively known as “serialization”, “marshalling,”  or “flattening”; however, to avoid confusion, the terms used here are “pickling” and “unpickling”."
   ]
  },
  {
   "cell_type": "markdown",
   "id": "73772b2c",
   "metadata": {},
   "source": [
    "## Question6. What are the different types of search algorithms?"
   ]
  },
  {
   "cell_type": "markdown",
   "id": "211625e3",
   "metadata": {},
   "source": [
    "#### Ans6. Searching Algorithms :\n",
    "#### Linear Search\n",
    "#### Binary Search\n",
    "#### Jump Search\n",
    "#### Interpolation Search\n",
    "#### Exponential Search\n",
    "#### Sublist Search (Search a linked list in another list)\n",
    "#### Fibonacci Search\n",
    "#### The Ubiquitous Binary Search\n",
    "#### Recursive program to linearly search an element in a given array\n",
    "#### Recursive function to do substring search\n",
    "#### Unbounded Binary Search Example (Find the point where a monotonically increasing function becomes positive first time)"
   ]
  },
  {
   "cell_type": "code",
   "execution_count": null,
   "id": "e4aa9f19",
   "metadata": {},
   "outputs": [],
   "source": []
  }
 ],
 "metadata": {
  "kernelspec": {
   "display_name": "Python 3",
   "language": "python",
   "name": "python3"
  },
  "language_info": {
   "codemirror_mode": {
    "name": "ipython",
    "version": 3
   },
   "file_extension": ".py",
   "mimetype": "text/x-python",
   "name": "python",
   "nbconvert_exporter": "python",
   "pygments_lexer": "ipython3",
   "version": "3.8.8"
  }
 },
 "nbformat": 4,
 "nbformat_minor": 5
}
