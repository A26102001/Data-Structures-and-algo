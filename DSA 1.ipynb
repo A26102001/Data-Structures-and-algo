{
 "cells": [
  {
   "cell_type": "markdown",
   "id": "7abb0172",
   "metadata": {},
   "source": [
    "## Data Structures and Algorithm assignment 1"
   ]
  },
  {
   "cell_type": "markdown",
   "id": "6ca4b36c",
   "metadata": {},
   "source": [
    "## Question1. Describe Python's built-in data structure?"
   ]
  },
  {
   "cell_type": "markdown",
   "id": "d5cf01c7",
   "metadata": {},
   "source": [
    "#### Ans. Python has four basic inbuilt data structures namely Lists, Dictionary, Tuple and Set. These almost cover 80% of the our real world data structures.\n",
    "#### Lists: Lists in Python are one of the most versatile collection object types available. The other two types are dictionaries and tuples, but they are really more like variations of lists.\n",
    "#### Dictionary: In python, dictionary is similar to hash or maps in other languages. It consists of key value pairs. The value can be accessed by unique key in the dictionary. \n",
    "#### Tuple : Python tuples work exactly like Python lists except they are immutable, i.e. they can’t be \n",
    "#### changed in place. They are normally written inside parentheses to distinguish them from lists (which use square brackets), but as you’ll see, parentheses aren’t always necessary. Since tuples are immutable, their length is fixed. To grow or shrink a tuple, a new tuple must be created. \n",
    "#### Sets: Unordered collection of unique objects. \n",
    "\n",
    "#### Set operations such as union (|) , intersection(&), difference(-) can be applied on a set.\n",
    "#### Frozen Sets are immutable i.e once created further data can’t be added to them\n",
    "#### {} are used to represent a set.Objects placed inside these brackets would be treated as a set."
   ]
  },
  {
   "cell_type": "markdown",
   "id": "accbe1f2",
   "metadata": {},
   "source": [
    "## Question2. Describe the Python user data structure?"
   ]
  },
  {
   "cell_type": "markdown",
   "id": "99c9a0a4",
   "metadata": {},
   "source": [
    "#### Ans. Data structures in Python that is user-defined; that is, users define them. These include Stack, Queue, Linked List, Tree, Graph and HashMap. \n",
    "#### Stacks – Stacks are linear data structures in Python. Storing items in Stacks is based on the principles of First-In/Last-Out (FILO) or Last-In/First-Out (LIFO). In Stacks, the addition of a new element at one end is accompanied by the removal of an element from the same end. The operations ‘push’ and ‘pop’ are used for insertions and deletions, respectively. Other functions related to Stack are empty(), size() and top(). Stacks can be implemented using modules and data structures from the Python library – list, collections.deque, and queue.LifoQueue. \n",
    "\n",
    "#### Queue – Similar to Stacks, Queues are linear data structures. However, items are stored based on the First- In/ First- Out (FIFO) principle. In a Queue, the item that is least recently added is removed first. Operations related to Queue include Enqueue (adding elements), Dequeue (deleting elements), Front and Rear. Like Stacks, Queues can be implemented using modules and data structures from the Python library – list, collections.deque, and queue.\n",
    "\n",
    "#### Tree – Trees are non-linear data structures in Python and consist of nodes connected by edges. The properties of a Tree are one node is designated the root node, other than the root, every other node has an associated parent node, and each node can have an arbitrary number of children nodes. A binary Tree data structure is one whose elements have no more than two children.\n",
    "\n",
    "#### Linked List – A series of data elements joined together via links is termed as a Linked List in Python. It is also a linear data structure. Each data element in a Linked List is connected to another using pointer. Since the Python library does not contain Linked Lists, they are implemented using the concept of nodes. Linked Lists have an advantage over Arrays in having a dynamic size, with ease of inserting/deleting elements.\n",
    "\n",
    "#### Graph – A Graph in Python pictorially represents a set of objects, with some object pairs connected by links. Vertices represent the objects that are interconnected, and the links that join the vertices are termed as edges. The Python dictionary data type can be used to present graphs. In essence, the ‘keys’ of the dictionary represent the vertices, and the ‘values’ indicate the connections or the edges between the vertices.\n",
    "\n",
    "#### HashMaps/Hash Tables – In this type of data structure, a Hash function generates the address or index value of the data element. The index value serves as the key to the data value allowing faster access of data. As in the dictionary data type, Hash Tables have key-value pairs, but a hashing function generates the key."
   ]
  },
  {
   "cell_type": "markdown",
   "id": "0e4c8679",
   "metadata": {},
   "source": [
    "## Question3. Describe the stages involved in writing an algorithm\n"
   ]
  },
  {
   "cell_type": "markdown",
   "id": "ee781339",
   "metadata": {},
   "source": [
    "#### Ans. In order to write an algorithm, following things are needed as a pre-requisite: \n",
    " \n",
    "\n",
    "#### The problem that is to be solved by this algorithm.\n",
    "#### The constraints of the problem that must be considered while solving the problem.\n",
    "#### The input to be taken to solve the problem.\n",
    "#### The output to be expected when the problem the is solved.\n",
    "#### The solution to this problem, in the given constraints."
   ]
  },
  {
   "cell_type": "markdown",
   "id": "a0b6ca00",
   "metadata": {},
   "source": [
    "## Question4. Outline the components of a good algorithm?"
   ]
  },
  {
   "cell_type": "markdown",
   "id": "0dc6f61c",
   "metadata": {},
   "source": [
    "#### Ans. Unambiguous − Algorithm should be clear and unambiguous. Each of its steps (or phases), and their inputs/outputs should be clear and must lead to only one meaning.\n",
    "\n",
    "#### Input − An algorithm should have 0 or more well-defined inputs.\n",
    "\n",
    "#### Output − An algorithm should have 1 or more well-defined outputs, and should match the desired output.\n",
    "\n",
    "#### Finiteness − Algorithms must terminate after a finite number of steps.\n",
    "\n",
    "#### Feasibility − Should be feasible with the available resources.\n",
    "\n",
    "#### Independent − An algorithm should have step-by-step directions, which should be independent of any programming code."
   ]
  },
  {
   "cell_type": "markdown",
   "id": "5136a42f",
   "metadata": {},
   "source": [
    "## Question5. Describe the Tree traversal method?\n"
   ]
  },
  {
   "cell_type": "markdown",
   "id": "ed621f9f",
   "metadata": {},
   "source": [
    "#### Ans. Traversal is a process to visit all the nodes of a tree and may print their values too. Because, all nodes are connected via edges (links) we always start from the root (head) node. That is, we cannot randomly access a node in a tree. There are three ways which we use to traverse a tree −\n",
    "\n",
    "#### In-order Traversal\n",
    "#### Pre-order Traversal\n",
    "#### Post-order Traversal\n",
    "#### Generally, we traverse a tree to search or locate a given item or key in the tree or to print all the values it contains."
   ]
  },
  {
   "cell_type": "markdown",
   "id": "ac6db7c2",
   "metadata": {},
   "source": [
    "## Question6. Explain the difference between inorder and postorder tree traversal?"
   ]
  },
  {
   "cell_type": "markdown",
   "id": "645b2013",
   "metadata": {},
   "source": [
    "#### Ans. Inorder Traversal\n",
    "#### Inorder Traversal is the one the most used variant of DFS(Depth First Search) Traversal of the tree.\n",
    "#### As DFS suggests, we will first focus on the depth of the chosen Node and then go to the breadth at that level. Therefore, we will start from the root node of the tree and go deeper-and-deeper into the left subtree with recursive manner.\n",
    "#### When we will reach to the left-most node with the above steps, then we will visit that current node and go to the left-most node of its right subtree(if exists).\n",
    "#### Same steps should be followed in a recursive manner to complete the inorder traversal. Order of those steps will be like (in recursive function)…\n",
    "#### Go to left-subtree\n",
    "#### Visit Node\n",
    "#### Go to right-subtree\n",
    "\n",
    "#### Preorder Traversal\n",
    "#### Preorder Traversal is another variant of DFS. Where atomic operations in a recursive function, are as same as Inorder traversal but with a different order.\n",
    "#### Here, we visit the current node first and then goes to the left sub-tree. After covering every node of the left sub-tree, we will move towards the right sub-tree and visit in a similar fashion.\n",
    "#### Order of the steps will be like…\n",
    "#### Visit Node\n",
    "#### Go to left-subtree\n",
    "#### Go to right-subtree"
   ]
  },
  {
   "cell_type": "code",
   "execution_count": null,
   "id": "33b06231",
   "metadata": {},
   "outputs": [],
   "source": []
  }
 ],
 "metadata": {
  "kernelspec": {
   "display_name": "Python 3",
   "language": "python",
   "name": "python3"
  },
  "language_info": {
   "codemirror_mode": {
    "name": "ipython",
    "version": 3
   },
   "file_extension": ".py",
   "mimetype": "text/x-python",
   "name": "python",
   "nbconvert_exporter": "python",
   "pygments_lexer": "ipython3",
   "version": "3.8.8"
  }
 },
 "nbformat": 4,
 "nbformat_minor": 5
}
