{
 "cells": [
  {
   "cell_type": "markdown",
   "id": "f2dca89b",
   "metadata": {},
   "source": [
    "## Question1. What exactly is an application tree?"
   ]
  },
  {
   "cell_type": "markdown",
   "id": "12cf3b3c",
   "metadata": {},
   "source": [
    "#### Ans. The Application Tree is a tree-view display of the folders, URLs, and files that AppScan® found on your application\n",
    "#### Each of the various node types in the Application Tree is indicated by its own icon\n"
   ]
  },
  {
   "cell_type": "markdown",
   "id": "bf285ffc",
   "metadata": {},
   "source": [
    "## Question2. What is pre-order tree traversal and how does it work?\n"
   ]
  },
  {
   "cell_type": "markdown",
   "id": "4a4246a6",
   "metadata": {},
   "source": [
    "#### Ans  pre-order traversal, in the pre-order traversal, we explore the tree as follow:\n",
    "#### Visit the node\n",
    "#### Recursively explore the left subtree\n",
    "#### Recursively explore the right subtree\n",
    "#### Pre-order traversal can have many applications, it is topologically sorted, which means the parent is always processed before any of its child nodes. This property can be applied for scheduling a sequence of jobs or task"
   ]
  },
  {
   "cell_type": "markdown",
   "id": "3cfe1d9e",
   "metadata": {},
   "source": [
    "## Question3.What is the problem with the Hanoi Tower?"
   ]
  },
  {
   "cell_type": "markdown",
   "id": "cc319d54",
   "metadata": {},
   "source": [
    "#### Ans. The Tower of Hanoi, is a mathematical problem which consists of three rods and multiple disks. Initially, all the disks are placed on one rod, one over the other in ascending order of size similar to a cone-shaped tower.\n",
    "#### The objective of this problem is to move the stack of disks from the initial rod to another rod, following these rules:\n",
    "#### A disk cannot be placed on top of a smaller disk\n",
    "#### No disk can be placed on top of the smaller disk.\n",
    "#### The goal is to move all the disks from the leftmost rod to the rightmost rod. To move N disks from one rod to another, 2^𝑁−1 steps are required. So, to move 3 disks from starting the rod to the ending rod, a total of 7 steps are required."
   ]
  },
  {
   "cell_type": "markdown",
   "id": "b5f01381",
   "metadata": {},
   "source": [
    "## Question4. Can you explain the distinction between linear and nonlinear data structures?"
   ]
  },
  {
   "cell_type": "markdown",
   "id": "e8ea6777",
   "metadata": {},
   "source": [
    "#### Ans Linear Data Structures\n",
    "#### A Linear data structure have data elements arranged in sequential manner and each member element is connected to its previous and next element. This connection helps to traverse a linear data structure in a single level and in single run. Such data structures are easy to implement as computer memory is also sequential. Examples of linear data structures are List, Queue, Stack, Array etc.\n",
    "\n",
    "#### Non-linear Data Structures\n",
    "#### A non-linear data structure has no set sequence of connecting all its elements and each element can have multiple paths to connect to other elements. Such data structures supports multi-level storage and often cannot be traversed in single run. Such data structures are not easy to implement but are more efficient in utilizing computer memory. Examples of non-linear data structures are Tree, BST, Graphs etc"
   ]
  },
  {
   "cell_type": "markdown",
   "id": "ebaf3e77",
   "metadata": {},
   "source": [
    "## Question5. What is the distinction between a list and an array?"
   ]
  },
  {
   "cell_type": "markdown",
   "id": "3c85c788",
   "metadata": {},
   "source": [
    "#### Ans. The main difference between these two data types is the operation you can perform on them. Arrays are specially optimised for arithmetic computations so if you’re going to perform similar operations you should consider using an array instead of a list.\n",
    "#### Also lists are containers for elements having differing data types but arrays are used as containers for elements of the same data type."
   ]
  },
  {
   "cell_type": "code",
   "execution_count": null,
   "id": "a66d0707",
   "metadata": {},
   "outputs": [],
   "source": []
  }
 ],
 "metadata": {
  "kernelspec": {
   "display_name": "Python 3",
   "language": "python",
   "name": "python3"
  },
  "language_info": {
   "codemirror_mode": {
    "name": "ipython",
    "version": 3
   },
   "file_extension": ".py",
   "mimetype": "text/x-python",
   "name": "python",
   "nbconvert_exporter": "python",
   "pygments_lexer": "ipython3",
   "version": "3.8.8"
  }
 },
 "nbformat": 4,
 "nbformat_minor": 5
}
