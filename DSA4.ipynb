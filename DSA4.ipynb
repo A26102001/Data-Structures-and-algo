{
 "cells": [
  {
   "cell_type": "markdown",
   "id": "c85977fa",
   "metadata": {},
   "source": [
    "## Question1. Use examples to explain the sorting algorithms."
   ]
  },
  {
   "cell_type": "markdown",
   "id": "eca6fe42",
   "metadata": {},
   "source": [
    "#### Ans1. A Sorting Algorithm is used to rearrange a given array or list elements according to a comparison operator on the elements. The comparison operator is used to decide the new order of element in the respective data structure.\n",
    "\n",
    "#### For example: The below list of characters is sorted in increasing order of their ASCII values. That is, the character with lesser ASCII value will be placed first than the character with higher ASCII value.\n",
    "\n",
    "h i e r w y h ---------> e i h h r w y"
   ]
  },
  {
   "cell_type": "markdown",
   "id": "277f16a4",
   "metadata": {},
   "source": [
    "## Question2. What Are the Benefits of Stacks?"
   ]
  },
  {
   "cell_type": "markdown",
   "id": "b7a8749d",
   "metadata": {},
   "source": [
    "#### Ans2. Helps you to manage the data in a Last In First Out(LIFO) method which is not possible with Linked list and array.\n",
    "#### When a function is called the local variables are stored in a stack, and it is automatically destroyed once returned.\n",
    "#### A stack is used when a variable is not used outside that function.\n",
    "#### It allows you to control how memory is allocated and deallocated.\n",
    "#### Stack automatically cleans up the object.\n",
    "#### Not easily corrupted\n",
    "#### Variables cannot be resized."
   ]
  },
  {
   "cell_type": "markdown",
   "id": "a31b7773",
   "metadata": {},
   "source": [
    "## Question3. What is the difference between a stack and a queue?"
   ]
  },
  {
   "cell_type": "markdown",
   "id": "8321a74e",
   "metadata": {},
   "source": [
    "#### Ans3.  Stack and Queue both are the non-primitive data structures. The main differences between stack and queue are that stack uses LIFO (last in first out) method to access and add data elements whereas Queue uses FIFO (First in first out) method to access and add data elements."
   ]
  },
  {
   "cell_type": "markdown",
   "id": "8c690f8a",
   "metadata": {},
   "source": [
    "## Question4. What are the different forms of queues?"
   ]
  },
  {
   "cell_type": "markdown",
   "id": "126f9b4c",
   "metadata": {},
   "source": [
    "#### Ans4. A queue is a useful data structure in programming. It is similar to the ticket queue outside a cinema hall, where the first person entering the queue is the first person who gets the ticket.\n",
    "\n",
    "#### There are four different types of queues:\n",
    "\n",
    "#### Simple Queue\n",
    "#### Circular Queue\n",
    "#### Priority Queue\n",
    "#### Double Ended Queue"
   ]
  },
  {
   "cell_type": "markdown",
   "id": "b93aeea1",
   "metadata": {},
   "source": [
    "## Question5. Why should I use Stack or Queue data structures instead of Arrays or\n",
    "## Lists, and when should I use them?"
   ]
  },
  {
   "cell_type": "markdown",
   "id": "06a0b466",
   "metadata": {},
   "source": [
    "#### Ans5. Use a queue when you want to get things out in the order that you put them in. Use a stack when you want to get things out in the reverse order than you put them in. Use a list when you want to get anything out, regardless of when you put them in (and when you don't want them to automatically be removed)."
   ]
  },
  {
   "cell_type": "markdown",
   "id": "1b999e4e",
   "metadata": {},
   "source": [
    "## Question6. What is the significance of Stack being a recursive data structure?"
   ]
  },
  {
   "cell_type": "markdown",
   "id": "d7a22592",
   "metadata": {},
   "source": [
    "#### Ans6. Many programming languages implement recursion by means of stacks. Generally, whenever a function (caller) calls another function (callee) or itself as callee, the caller function transfers execution control to the callee. This transfer process may also involve some data to be passed from the caller to the callee."
   ]
  },
  {
   "cell_type": "code",
   "execution_count": null,
   "id": "4ebf5a6e",
   "metadata": {},
   "outputs": [],
   "source": []
  }
 ],
 "metadata": {
  "kernelspec": {
   "display_name": "Python 3",
   "language": "python",
   "name": "python3"
  },
  "language_info": {
   "codemirror_mode": {
    "name": "ipython",
    "version": 3
   },
   "file_extension": ".py",
   "mimetype": "text/x-python",
   "name": "python",
   "nbconvert_exporter": "python",
   "pygments_lexer": "ipython3",
   "version": "3.8.8"
  }
 },
 "nbformat": 4,
 "nbformat_minor": 5
}
