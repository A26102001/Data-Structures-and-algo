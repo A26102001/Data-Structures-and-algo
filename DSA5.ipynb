{
 "cells": [
  {
   "cell_type": "markdown",
   "id": "7ae1c81f",
   "metadata": {},
   "source": [
    "## Question1. What is a linked list?"
   ]
  },
  {
   "cell_type": "markdown",
   "id": "a0d66192",
   "metadata": {},
   "source": [
    "#### Ans1. A linked list is a sequence of data structures, which are connected together via links.\n",
    "#### Linked List is a sequence of links which contains items. Each link contains a connection to another link. Linked list is the second most-used data structure after array."
   ]
  },
  {
   "cell_type": "markdown",
   "id": "d93456d0",
   "metadata": {},
   "source": [
    "## Question2. What are the different forms of linked lists?"
   ]
  },
  {
   "cell_type": "markdown",
   "id": "bc50f92b",
   "metadata": {},
   "source": [
    "#### Ans2. There are three common types of Linked List.\n",
    "#### Singly Linked List\n",
    "#### Doubly Linked List\n",
    "#### Circular Linked List"
   ]
  },
  {
   "cell_type": "markdown",
   "id": "b1ccf6fb",
   "metadata": {},
   "source": [
    "## Question3. What is a linked list's purpose?"
   ]
  },
  {
   "cell_type": "markdown",
   "id": "ff66b2ff",
   "metadata": {},
   "source": [
    "#### Ans3. A linked list can be used to implement a queue. The canonical real life example would be a line for a cashier. A linked list can also be used to implement a stack. The cononical real ife example would be one of those plate dispensers at a buffet restaurant where pull the top plate off the top of the stack"
   ]
  },
  {
   "cell_type": "markdown",
   "id": "7e3dec2d",
   "metadata": {},
   "source": [
    "## Question4. What are the advantages of linked lists over arrays?"
   ]
  },
  {
   "cell_type": "markdown",
   "id": "9c909f49",
   "metadata": {},
   "source": [
    "#### Ans4. 1) Dynamic Data Structure:\n",
    "#### Linked List being a dynamic data structure can shrink and grow at the runtime by deallocating or allocating memory, so there is no need for an initial size in linked list\n",
    "#### 2) No Memory Wastage:\n",
    "#### As the size of a linked list can grow or shrink at runtime, so there is no memory wastage. Only the required memory is allocated. \n",
    "#### 3) Implementation:\n",
    "#### Some very helpful data structures like queues and stacks can be easily implemented using a Linked List.\n",
    "#### 4) Insertion and Deletion Operation:\n",
    "#### In a Linked List, insertion and deletion operations are quite easy, as there is no need to shift every element after insertion or deletion. Only the address present in the pointers needs to be updated."
   ]
  },
  {
   "cell_type": "markdown",
   "id": "8b3743b0",
   "metadata": {},
   "source": [
    "## Question5. What is the purpose of a circular linked list?"
   ]
  },
  {
   "cell_type": "markdown",
   "id": "f5ec5ed0",
   "metadata": {},
   "source": [
    "#### Ans5. Circular lists are used in applications where the entire list is accessed one-by-one in a loop. It is also used by the Operating system to share time for different users, generally uses a Round-Robin time-sharing mechanism. Multiplayer games use a circular list to swap between players in a loop"
   ]
  },
  {
   "cell_type": "markdown",
   "id": "011731f6",
   "metadata": {},
   "source": [
    "## Question6. How will you explain Circular Linked List?"
   ]
  },
  {
   "cell_type": "markdown",
   "id": "179ce04d",
   "metadata": {},
   "source": [
    "#### Ans6. A circular linked list is a sequence of elements in which every element has a link to its next element in the sequence and the last element has a link to the first element. That means circular linked list is similar to the single linked list except that the last node points to the first node in the list."
   ]
  },
  {
   "cell_type": "code",
   "execution_count": null,
   "id": "075d5b8c",
   "metadata": {},
   "outputs": [],
   "source": []
  }
 ],
 "metadata": {
  "kernelspec": {
   "display_name": "Python 3",
   "language": "python",
   "name": "python3"
  },
  "language_info": {
   "codemirror_mode": {
    "name": "ipython",
    "version": 3
   },
   "file_extension": ".py",
   "mimetype": "text/x-python",
   "name": "python",
   "nbconvert_exporter": "python",
   "pygments_lexer": "ipython3",
   "version": "3.8.8"
  }
 },
 "nbformat": 4,
 "nbformat_minor": 5
}
